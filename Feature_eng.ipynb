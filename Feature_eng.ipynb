{
 "cells": [
  {
   "cell_type": "code",
   "execution_count": null,
   "id": "07131c6b-2e79-4351-bb2e-4c16317c125c",
   "metadata": {},
   "outputs": [],
   "source": [
    "minmax = MinMaxScaler()\n",
    "minmax.fit(X_train[['Under_five_deaths','Adult_mortality']])"
   ]
  },
  {
   "cell_type": "code",
   "execution_count": null,
   "id": "08a1ac3e-ddc0-468f-8333-740fd8ed3cc8",
   "metadata": {},
   "outputs": [],
   "source": [
    "X_train[['Under_five_deaths','Adult_mortality']] = minmax.transform(X_train[['Under_five_deaths','Adult_mortality']])\n",
    "X_train['GDP_per_capita_log'] = np.log(X_train['GDP_per_capita'])\n",
    "X_train.drop(columns=['GDP_per_capita'],inplace=True)\n",
    "X_train.Year = X_train.Year-2000"
   ]
  },
  {
   "cell_type": "code",
   "execution_count": null,
   "id": "e8d64502-c761-4b20-9066-2b0b29f3ff86",
   "metadata": {},
   "outputs": [],
   "source": []
  }
 ],
 "metadata": {
  "kernelspec": {
   "display_name": "Python [conda env:base] *",
   "language": "python",
   "name": "conda-base-py"
  },
  "language_info": {
   "codemirror_mode": {
    "name": "ipython",
    "version": 3
   },
   "file_extension": ".py",
   "mimetype": "text/x-python",
   "name": "python",
   "nbconvert_exporter": "python",
   "pygments_lexer": "ipython3",
   "version": "3.12.7"
  }
 },
 "nbformat": 4,
 "nbformat_minor": 5
}
