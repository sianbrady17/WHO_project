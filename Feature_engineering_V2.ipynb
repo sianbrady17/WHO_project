{
 "cells": [
  {
   "cell_type": "markdown",
   "id": "f917252b-0818-4c66-84d9-6e3ba9ee9c5f",
   "metadata": {},
   "source": [
    "# WHO Life Expectancy Feature Engineering\n",
    "\n",
    "The first step in feature engineering is to train-test split the dataframe. This ensures that the model is robust and effective on future unseen data.\n",
    "\n",
    "After this, we can apply feature engineering to the split dataframe where necessary. This involves feature selection, standardization and scaling."
   ]
  },
  {
   "cell_type": "code",
   "execution_count": 15,
   "id": "e6d06093-1941-4d4f-aef4-ddfab339a52a",
   "metadata": {
    "tags": []
   },
   "outputs": [],
   "source": [
    "# Libraries\n",
    "import pandas as pd   # For general data use\n",
    "import numpy as np    # For mathematical operations\n",
    "from sklearn.model_selection import train_test_split\n",
    "import statsmodels.api as sm\n",
    "from statsmodels.stats.outliers_influence import variance_inflation_factor\n",
    "from sklearn.preprocessing import MinMaxScaler"
   ]
  },
  {
   "cell_type": "code",
   "execution_count": 2,
   "id": "e6d675f4-a6b7-47e6-bb40-cab585e3d682",
   "metadata": {
    "tags": []
   },
   "outputs": [],
   "source": [
    "# Creating dataframe from CSV file\n",
    "df = pd.read_csv('Life Expectancy Data.csv')"
   ]
  },
  {
   "cell_type": "markdown",
   "id": "9a54aef8-7981-48f5-898b-4ea7fb66c2b0",
   "metadata": {},
   "source": [
    "## Train-test splitting"
   ]
  },
  {
   "cell_type": "code",
   "execution_count": 3,
   "id": "2375d448-579a-45bc-b2d7-6e5897948567",
   "metadata": {
    "tags": []
   },
   "outputs": [],
   "source": [
    "# Features\n",
    "X = df.drop('Life_expectancy', axis=1)\n",
    "\n",
    "# Target\n",
    "y = df['Life_expectancy']\n",
    "\n",
    "X_train, X_test, y_train, y_test = train_test_split(X, y, test_size=0.2, random_state=42)"
   ]
  },
  {
   "cell_type": "markdown",
   "id": "69e7d456-ec6b-406a-a91b-39b845cb6f9c",
   "metadata": {
    "jp-MarkdownHeadingCollapsed": true,
    "tags": []
   },
   "source": [
    "## Basic feature selection\n",
    "We dropped the `Economy_status_Developing` feature. As discovered during exploratory analysis, there are two binary features presenting perfectly symmetrical information about economic status. It is common practice in a binary feature for **1** to represent **Yes** and for **0** to represent **No**. Since the `Economy_status_Developed` follows this convention, we chose to keep this feature in the dataframe, and drop the other."
   ]
  },
  {
   "cell_type": "markdown",
   "id": "5ba6cb64-cba9-4969-bbf7-3f40cd4cde63",
   "metadata": {},
   "source": [
    "The feature `Country` was deemed to be equivalent to a unique identifier. Label-encoding would have introduced a non-existing linear relationship and one-hot encoding would introduce so many new variables (179) that the model would be heavily weighted to binary predictors, while make coefficient output practically illegible. Therefore `Country` was dropped."
   ]
  },
  {
   "cell_type": "code",
   "execution_count": 4,
   "id": "54daecaf-4a44-44ad-bccc-e9ff1db8711a",
   "metadata": {},
   "outputs": [],
   "source": [
    "# Function dropping all required features\n",
    "def drop_all(df):\n",
    "    df.drop(columns = ['Country','Economy_status_Developing'], inplace=True)    # Drops in place, do not run twice!\n",
    "    return df"
   ]
  },
  {
   "cell_type": "code",
   "execution_count": 5,
   "id": "4065d153-3343-47f6-b08e-69f0bf999f34",
   "metadata": {},
   "outputs": [],
   "source": [
    "X_train_drop = drop_all(X_train)\n",
    "X_test_drop = drop_all(X_test)"
   ]
  },
  {
   "cell_type": "markdown",
   "id": "503b65cf-3da3-405b-8eb6-9d829c7dbe65",
   "metadata": {},
   "source": [
    "`Region` was one-hot encoded and the original column was dropped, but this feature did not have significant p-values after early testing and was dropped as part of further feature selection."
   ]
  },
  {
   "cell_type": "code",
   "execution_count": 6,
   "id": "9cffad19-92c6-4bcf-b180-17e8aa765169",
   "metadata": {},
   "outputs": [],
   "source": [
    "pd.get_dummies(df, columns = ['Region'], prefix = 'Region', dtype=int)\n",
    "X_train_drop.drop(columns=['Region'], inplace=True)\n",
    "X_test_drop.drop(columns=['Region'], inplace=True)"
   ]
  },
  {
   "cell_type": "markdown",
   "id": "cda65667-d98c-4934-b6b1-23ff928aff19",
   "metadata": {
    "jp-MarkdownHeadingCollapsed": true,
    "tags": []
   },
   "source": [
    "## Linearization\n",
    "\n",
    "The `GDP_per_capita` feature displayed a logarithmic relationship with `Life_expectancy`. To combat this, we took the log value of `GDP_per_capita`. This then presented a more linear relationship. We dropped the original `GDP_per_capita` feature following this."
   ]
  },
  {
   "cell_type": "code",
   "execution_count": 7,
   "id": "dc4513bb-8208-4554-996a-7669ad83ab34",
   "metadata": {
    "tags": []
   },
   "outputs": [],
   "source": [
    "# Function to normalise GDP\n",
    "def log_GDP(df):\n",
    "    df['GDP_per_capita_log'] = np.log(df['GDP_per_capita'])\n",
    "    df.drop(columns = ['GDP_per_capita'], inplace = True)\n",
    "    return df"
   ]
  },
  {
   "cell_type": "code",
   "execution_count": 8,
   "id": "bbe0bb8d-ae8d-46ac-9f43-991f3217e9a5",
   "metadata": {},
   "outputs": [],
   "source": [
    "# Apply function to X_train_drop and X_test_drop\n",
    "X_train_fe = log_GDP(X_train_drop)\n",
    "X_test_fe = log_GDP(X_test_drop)"
   ]
  },
  {
   "cell_type": "markdown",
   "id": "e3fa56e5-fab4-4c3d-bfba-5389ac1d0e5a",
   "metadata": {
    "jp-MarkdownHeadingCollapsed": true
   },
   "source": [
    "## Further feature selection"
   ]
  },
  {
   "cell_type": "markdown",
   "id": "f36fd927-e217-479c-951c-7aa78b1ab789",
   "metadata": {},
   "source": [
    "The following stepwise selection function was used to select only those features which provide a significant contribution to the model (p-value great than 0.05)."
   ]
  },
  {
   "cell_type": "code",
   "execution_count": 9,
   "id": "2906baaf-6f16-48d3-b80f-ce34ce323591",
   "metadata": {
    "jupyter": {
     "source_hidden": true
    }
   },
   "outputs": [],
   "source": [
    "def stepwise_selection(X, y, threshold_in = 0.01, threshold_out = 0.05, verbose = True):\n",
    "    # The function is checking for p-values (whether features are statistically significant) - lower is better\n",
    "    included = [] # this is going to be the list of features we keep\n",
    "    while True:\n",
    "        changed = False\n",
    "        # forward step\n",
    "        excluded = list(set(X.columns) - set(included))\n",
    "        new_pval = pd.Series(index = excluded, dtype = 'float64')\n",
    "        for new_column in excluded:\n",
    "            model = sm.OLS(y, sm.add_constant(pd.DataFrame(X[included + [new_column]]))).fit()\n",
    "            new_pval[new_column] = model.pvalues[new_column]\n",
    "        best_pval = new_pval.min()\n",
    "        # we add the feature with the lowest (best) p-value under the threshold to our 'included' list\n",
    "        if best_pval < threshold_in:\n",
    "            best_feature = new_pval.idxmin()\n",
    "            included.append(best_feature)\n",
    "            changed = True\n",
    "            if verbose:\n",
    "                print('Add  {:30} with p-value {:.6}'.format(best_feature, best_pval)) # specifying the verbose text\n",
    "\n",
    "\n",
    "        # backward step: removing features if new features added to the list make them statistically insignificant\n",
    "        model = sm.OLS(y, sm.add_constant(pd.DataFrame(X[included]))).fit()\n",
    "        \n",
    "        # use all coefs except intercept\n",
    "        pvalues = model.pvalues.iloc[1:]\n",
    "        worst_pval = pvalues.max() # null if pvalues is empty\n",
    "        # if the p-value exceeds the upper threshold, the feature will be dropped from the 'included' list\n",
    "        if worst_pval > threshold_out:\n",
    "            changed = True\n",
    "            worst_feature = pvalues.idxmax()\n",
    "            included.remove(worst_feature)\n",
    "            if verbose:\n",
    "                print('Drop {:30} with p-value {:.6}'.format(worst_feature, worst_pval))\n",
    "        if not changed:\n",
    "            break\n",
    "    return included"
   ]
  },
  {
   "cell_type": "code",
   "execution_count": 20,
   "id": "958a7725-85eb-474e-b9f9-9dd17fdd5d59",
   "metadata": {},
   "outputs": [
    {
     "name": "stdout",
     "output_type": "stream",
     "text": [
      "Add  Under_five_deaths              with p-value 0.0\n",
      "Add  Adult_mortality                with p-value 0.0\n",
      "Add  Economy_status_Developed       with p-value 1.79712e-150\n",
      "Add  GDP_per_capita_log             with p-value 2.42674e-52\n",
      "Add  Infant_deaths                  with p-value 2.61209e-14\n",
      "Add  BMI                            with p-value 1.03723e-10\n",
      "Add  Schooling                      with p-value 8.55602e-11\n",
      "Add  Thinness_ten_nineteen_years    with p-value 1.50631e-06\n",
      "Add  Year                           with p-value 0.000120534\n",
      "Add  Alcohol_consumption            with p-value 0.000514411\n",
      "Add  Incidents_HIV                  with p-value 0.00695664\n",
      "Add  Hepatitis_B                    with p-value 0.00628234\n",
      "Add  Polio                          with p-value 0.00171435\n"
     ]
    }
   ],
   "source": [
    "# Selects features based on p-values contributing to the model\n",
    "selected_features = stepwise_selection(X_train, y_train)\n",
    "# Trims features to those selected\n",
    "X_train_selected = X_train[selected_features]\n",
    "X_test_selected = X_test[selected_features]"
   ]
  },
  {
   "cell_type": "markdown",
   "id": "0b4f0468-6cac-48f2-9f91-3b199e6d5b39",
   "metadata": {},
   "source": [
    "Original training of the model flagged a high Condition Number. So a VIF calculator was used to check for multicollinearity."
   ]
  },
  {
   "cell_type": "code",
   "execution_count": 21,
   "id": "bfbfa722-9d65-4bb7-b46e-e69e2c685d1a",
   "metadata": {},
   "outputs": [],
   "source": [
    "def calculate_vif(X):\n",
    "    X = sm.add_constant(X)    # Adds a constant to DataFrame X so that the function \"variance_inflation_factor\" can perform its tests\n",
    "    vif_data = pd.DataFrame()    # Creates DataFrame that will be used to visualize vif data\n",
    "    vif_data['Variable'] = X.columns\n",
    "    vif_data['VIF'] = [variance_inflation_factor(X.values, i) for i in range(X.shape[1])]\n",
    "    return vif_data"
   ]
  },
  {
   "cell_type": "code",
   "execution_count": 22,
   "id": "abe983be-ab4f-42f9-98b0-0839f4d06882",
   "metadata": {},
   "outputs": [
    {
     "data": {
      "text/html": [
       "<div>\n",
       "<style scoped>\n",
       "    .dataframe tbody tr th:only-of-type {\n",
       "        vertical-align: middle;\n",
       "    }\n",
       "\n",
       "    .dataframe tbody tr th {\n",
       "        vertical-align: top;\n",
       "    }\n",
       "\n",
       "    .dataframe thead th {\n",
       "        text-align: right;\n",
       "    }\n",
       "</style>\n",
       "<table border=\"1\" class=\"dataframe\">\n",
       "  <thead>\n",
       "    <tr style=\"text-align: right;\">\n",
       "      <th></th>\n",
       "      <th>Variable</th>\n",
       "      <th>VIF</th>\n",
       "    </tr>\n",
       "  </thead>\n",
       "  <tbody>\n",
       "    <tr>\n",
       "      <th>0</th>\n",
       "      <td>const</td>\n",
       "      <td>203155.946488</td>\n",
       "    </tr>\n",
       "    <tr>\n",
       "      <th>1</th>\n",
       "      <td>Under_five_deaths</td>\n",
       "      <td>45.179675</td>\n",
       "    </tr>\n",
       "    <tr>\n",
       "      <th>2</th>\n",
       "      <td>Adult_mortality</td>\n",
       "      <td>8.334180</td>\n",
       "    </tr>\n",
       "    <tr>\n",
       "      <th>3</th>\n",
       "      <td>Economy_status_Developed</td>\n",
       "      <td>2.753713</td>\n",
       "    </tr>\n",
       "    <tr>\n",
       "      <th>4</th>\n",
       "      <td>GDP_per_capita_log</td>\n",
       "      <td>5.126240</td>\n",
       "    </tr>\n",
       "    <tr>\n",
       "      <th>5</th>\n",
       "      <td>Infant_deaths</td>\n",
       "      <td>47.007928</td>\n",
       "    </tr>\n",
       "    <tr>\n",
       "      <th>6</th>\n",
       "      <td>BMI</td>\n",
       "      <td>2.776837</td>\n",
       "    </tr>\n",
       "    <tr>\n",
       "      <th>7</th>\n",
       "      <td>Schooling</td>\n",
       "      <td>4.395716</td>\n",
       "    </tr>\n",
       "    <tr>\n",
       "      <th>8</th>\n",
       "      <td>Thinness_ten_nineteen_years</td>\n",
       "      <td>1.943154</td>\n",
       "    </tr>\n",
       "    <tr>\n",
       "      <th>9</th>\n",
       "      <td>Year</td>\n",
       "      <td>1.088183</td>\n",
       "    </tr>\n",
       "    <tr>\n",
       "      <th>10</th>\n",
       "      <td>Alcohol_consumption</td>\n",
       "      <td>2.440434</td>\n",
       "    </tr>\n",
       "    <tr>\n",
       "      <th>11</th>\n",
       "      <td>Incidents_HIV</td>\n",
       "      <td>3.122366</td>\n",
       "    </tr>\n",
       "    <tr>\n",
       "      <th>12</th>\n",
       "      <td>Hepatitis_B</td>\n",
       "      <td>2.227585</td>\n",
       "    </tr>\n",
       "    <tr>\n",
       "      <th>13</th>\n",
       "      <td>Polio</td>\n",
       "      <td>3.782657</td>\n",
       "    </tr>\n",
       "  </tbody>\n",
       "</table>\n",
       "</div>"
      ],
      "text/plain": [
       "                       Variable            VIF\n",
       "0                         const  203155.946488\n",
       "1             Under_five_deaths      45.179675\n",
       "2               Adult_mortality       8.334180\n",
       "3      Economy_status_Developed       2.753713\n",
       "4            GDP_per_capita_log       5.126240\n",
       "5                 Infant_deaths      47.007928\n",
       "6                           BMI       2.776837\n",
       "7                     Schooling       4.395716\n",
       "8   Thinness_ten_nineteen_years       1.943154\n",
       "9                          Year       1.088183\n",
       "10          Alcohol_consumption       2.440434\n",
       "11                Incidents_HIV       3.122366\n",
       "12                  Hepatitis_B       2.227585\n",
       "13                        Polio       3.782657"
      ]
     },
     "execution_count": 22,
     "metadata": {},
     "output_type": "execute_result"
    }
   ],
   "source": [
    "# Runs vif tests to identify multicollinearity\n",
    "vif_data = calculate_vif(X_train_selected)\n",
    "vif_data"
   ]
  },
  {
   "cell_type": "markdown",
   "id": "2c513590-1c20-4ceb-b844-67a9cbb870fa",
   "metadata": {},
   "source": [
    "VIF scores are highest for `Under_five_deaths` and `Infant_deaths`. Together with the earlier finding that they have a correlation of **98.6%**, they can be said to be strongly multicollinear. `Infant_deaths` was dropped, as these are included in `Under_five_deaths`, so that the latter provides more information."
   ]
  },
  {
   "cell_type": "code",
   "execution_count": 23,
   "id": "2c54adff-6ace-4ca5-b725-cca962f038ec",
   "metadata": {},
   "outputs": [],
   "source": [
    "# Drops collinear variable\n",
    "selected_features.remove('Infant_deaths')\n",
    "X_train_selected = X_train[selected_features]\n",
    "X_test_selected = X_test[selected_features]"
   ]
  },
  {
   "cell_type": "code",
   "execution_count": 24,
   "id": "1d0ec721-302b-46f9-b910-5b18ca253dcd",
   "metadata": {},
   "outputs": [
    {
     "data": {
      "text/html": [
       "<div>\n",
       "<style scoped>\n",
       "    .dataframe tbody tr th:only-of-type {\n",
       "        vertical-align: middle;\n",
       "    }\n",
       "\n",
       "    .dataframe tbody tr th {\n",
       "        vertical-align: top;\n",
       "    }\n",
       "\n",
       "    .dataframe thead th {\n",
       "        text-align: right;\n",
       "    }\n",
       "</style>\n",
       "<table border=\"1\" class=\"dataframe\">\n",
       "  <thead>\n",
       "    <tr style=\"text-align: right;\">\n",
       "      <th></th>\n",
       "      <th>Variable</th>\n",
       "      <th>VIF</th>\n",
       "    </tr>\n",
       "  </thead>\n",
       "  <tbody>\n",
       "    <tr>\n",
       "      <th>0</th>\n",
       "      <td>const</td>\n",
       "      <td>202596.599505</td>\n",
       "    </tr>\n",
       "    <tr>\n",
       "      <th>1</th>\n",
       "      <td>Under_five_deaths</td>\n",
       "      <td>8.199744</td>\n",
       "    </tr>\n",
       "    <tr>\n",
       "      <th>2</th>\n",
       "      <td>Adult_mortality</td>\n",
       "      <td>8.326104</td>\n",
       "    </tr>\n",
       "    <tr>\n",
       "      <th>3</th>\n",
       "      <td>Economy_status_Developed</td>\n",
       "      <td>2.725756</td>\n",
       "    </tr>\n",
       "    <tr>\n",
       "      <th>4</th>\n",
       "      <td>GDP_per_capita_log</td>\n",
       "      <td>4.914016</td>\n",
       "    </tr>\n",
       "    <tr>\n",
       "      <th>5</th>\n",
       "      <td>BMI</td>\n",
       "      <td>2.771018</td>\n",
       "    </tr>\n",
       "    <tr>\n",
       "      <th>6</th>\n",
       "      <td>Schooling</td>\n",
       "      <td>4.395398</td>\n",
       "    </tr>\n",
       "    <tr>\n",
       "      <th>7</th>\n",
       "      <td>Thinness_ten_nineteen_years</td>\n",
       "      <td>1.928258</td>\n",
       "    </tr>\n",
       "    <tr>\n",
       "      <th>8</th>\n",
       "      <td>Year</td>\n",
       "      <td>1.086249</td>\n",
       "    </tr>\n",
       "    <tr>\n",
       "      <th>9</th>\n",
       "      <td>Alcohol_consumption</td>\n",
       "      <td>2.415537</td>\n",
       "    </tr>\n",
       "    <tr>\n",
       "      <th>10</th>\n",
       "      <td>Incidents_HIV</td>\n",
       "      <td>3.116995</td>\n",
       "    </tr>\n",
       "    <tr>\n",
       "      <th>11</th>\n",
       "      <td>Hepatitis_B</td>\n",
       "      <td>2.216866</td>\n",
       "    </tr>\n",
       "    <tr>\n",
       "      <th>12</th>\n",
       "      <td>Polio</td>\n",
       "      <td>3.767530</td>\n",
       "    </tr>\n",
       "  </tbody>\n",
       "</table>\n",
       "</div>"
      ],
      "text/plain": [
       "                       Variable            VIF\n",
       "0                         const  202596.599505\n",
       "1             Under_five_deaths       8.199744\n",
       "2               Adult_mortality       8.326104\n",
       "3      Economy_status_Developed       2.725756\n",
       "4            GDP_per_capita_log       4.914016\n",
       "5                           BMI       2.771018\n",
       "6                     Schooling       4.395398\n",
       "7   Thinness_ten_nineteen_years       1.928258\n",
       "8                          Year       1.086249\n",
       "9           Alcohol_consumption       2.415537\n",
       "10                Incidents_HIV       3.116995\n",
       "11                  Hepatitis_B       2.216866\n",
       "12                        Polio       3.767530"
      ]
     },
     "execution_count": 24,
     "metadata": {},
     "output_type": "execute_result"
    }
   ],
   "source": [
    "# Reruns vif tests to check multicollinearity\n",
    "vif_data = calculate_vif(X_train_selected)\n",
    "vif_data"
   ]
  },
  {
   "cell_type": "markdown",
   "id": "af7f4927-080f-42a3-8dce-4b5e6c4e8399",
   "metadata": {},
   "source": [
    "After checking VIF scores again, only `Under_five_deaths` and `Adult_mortality` have VIF scores above 5. While this is not ideal, they lie in the acceptable range of 5 to 10 and both have a big impact on lowering tracking error to within 2 years of the target, without being strongly collinear. For this reason, both were kept for training the model."
   ]
  },
  {
   "cell_type": "markdown",
   "id": "8045f111-be10-4667-a80b-08d41ec88d48",
   "metadata": {
    "jp-MarkdownHeadingCollapsed": true
   },
   "source": [
    "## Scaling\n",
    "\n",
    "Summary statistics of the data show a large difference in scale between features. These must be treated with care before modelling, to ensure that the models are not biased or dominated by certain features. Once feature selection was finished, min-max scaling was applied to all feature to remove these issues. In particular, `Year`, `Under five deaths`, `Adult mortality` displayed high units in their maximum values. But the Condition Number on the regression was lowered most by applying universal min-max scaling across features. This scaler was chosen due to most features exhibiting non-normal distributions, with min-max scaling preserving the distribution shape. This scaler was applied twice, once for each of the features selections in the different models.\n"
   ]
  },
  {
   "cell_type": "code",
   "execution_count": null,
   "id": "65329526-ce61-48b3-92d4-aa45d711a66a",
   "metadata": {},
   "outputs": [],
   "source": [
    "X_train_scale = X_train_selected.copy()\n",
    "X_test_scale = X_test_selected.copy()"
   ]
  },
  {
   "cell_type": "code",
   "execution_count": null,
   "id": "c314de9c-6ad0-4585-83c1-61d78ddb6de1",
   "metadata": {},
   "outputs": [],
   "source": [
    "# Trains MinMax Scaler on training data only to avoid bias(!)\n",
    "minmax = MinMaxScaler()\n",
    "minmax.fit(X_train_scale)"
   ]
  },
  {
   "cell_type": "code",
   "execution_count": null,
   "id": "5f1b9bba-4257-49bd-a930-5f231308a7b9",
   "metadata": {},
   "outputs": [],
   "source": [
    "# Perform minmaxing transformation\n",
    "X_train_scale[selected_features] = minmax.transform(X_train_scale)\n",
    "# Repeat above for testing data\n",
    "X_test_scale[selected_features] = minmax.transform(X_test_scale)"
   ]
  },
  {
   "cell_type": "markdown",
   "id": "4728d2b6-d2a4-4e59-a12c-ff11a1482e68",
   "metadata": {},
   "source": [
    "The following cells perform the same operation but drop variables that might be based on sensitive medical records."
   ]
  },
  {
   "cell_type": "code",
   "execution_count": null,
   "id": "9ab687b7-1f9e-4479-8216-eaf0dbdca9b8",
   "metadata": {},
   "outputs": [],
   "source": [
    "# Drops medical variables\n",
    "medical_features = ['BMI','Incidents_HIV','Polio','Hepatitis_B','Thinness_ten_nineteen_years']\n",
    "for item in medical_features:\n",
    "    selected_features.remove(item)\n",
    "X_train_selected = X_train[selected_features]\n",
    "X_test_selected = X_test[selected_features]"
   ]
  },
  {
   "cell_type": "code",
   "execution_count": null,
   "id": "8bd61957-a93c-446c-9e7f-7a216430d8a2",
   "metadata": {},
   "outputs": [],
   "source": [
    "# Perform minmaxing transformation\n",
    "X_train_scale2[selected_features] = minmax2.transform(X_train_scale2)\n",
    "# Perform minmaxing transformation\n",
    "X_test_scale2[selected_features] = minmax2.transform(X_test_scale2)"
   ]
  },
  {
   "cell_type": "markdown",
   "id": "e9af0b29-25ca-40a5-b393-ddf1b072f1b3",
   "metadata": {},
   "source": [
    "## Saving outputs"
   ]
  },
  {
   "cell_type": "code",
   "execution_count": 11,
   "id": "800500b4-3341-4d5c-924e-0d4e80f3f4af",
   "metadata": {},
   "outputs": [],
   "source": [
    "# Saving the dataframe to csv output, useable in the model notebook\n",
    "X_train_scale.to_csv('X_train_scale.csv')\n",
    "X_test_scale.to_csv('X_test_scale.csv')\n",
    "X_train_scale2.to_csv('X_train_scale.csv')\n",
    "X_test_scale2.to_csv('X_test_scale.csv')\n",
    "y_train.to_csv('y_train.csv')\n",
    "y_test.to_csv('y_test.csv')"
   ]
  }
 ],
 "metadata": {
  "kernelspec": {
   "display_name": "Python [conda env:base] *",
   "language": "python",
   "name": "conda-base-py"
  },
  "language_info": {
   "codemirror_mode": {
    "name": "ipython",
    "version": 3
   },
   "file_extension": ".py",
   "mimetype": "text/x-python",
   "name": "python",
   "nbconvert_exporter": "python",
   "pygments_lexer": "ipython3",
   "version": "3.12.7"
  }
 },
 "nbformat": 4,
 "nbformat_minor": 5
}
