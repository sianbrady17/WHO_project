{
 "cells": [
  {
   "cell_type": "markdown",
   "id": "f917252b-0818-4c66-84d9-6e3ba9ee9c5f",
   "metadata": {},
   "source": [
    "# WHO Life Expectancy Feature Engineering\n",
    "\n",
    "The first step in feature engineering is to train-test split the dataframe. This ensures that the model is robust and effective on future unseen data.\n",
    "\n",
    "After this, we can apply feature engineering to the split dataframe where necessary. This involves feature scaling, standardising, or removal."
   ]
  },
  {
   "cell_type": "code",
   "execution_count": 1,
   "id": "e6d06093-1941-4d4f-aef4-ddfab339a52a",
   "metadata": {
    "tags": []
   },
   "outputs": [],
   "source": [
    "# Importing necessary packages\n",
    "import pandas as pd # For general data use\n",
    "import seaborn as sns # For data visualisation\n",
    "import matplotlib.pyplot as plt # For data visualisation\n",
    "import numpy as np # For mathematical operations\n",
    "from sklearn.model_selection import train_test_split"
   ]
  },
  {
   "cell_type": "code",
   "execution_count": 2,
   "id": "e6d675f4-a6b7-47e6-bb40-cab585e3d682",
   "metadata": {
    "tags": []
   },
   "outputs": [],
   "source": [
    "# Creating dataframe from CSV file\n",
    "df = pd.read_csv('Life Expectancy Data.csv')"
   ]
  },
  {
   "cell_type": "code",
   "execution_count": 3,
   "id": "2375d448-579a-45bc-b2d7-6e5897948567",
   "metadata": {
    "tags": []
   },
   "outputs": [],
   "source": [
    "# Features (all columns except 'Life_expectancy')\n",
    "X = df.drop('Life_expectancy', axis=1)\n",
    "\n",
    "# Target (the 'SUPERHERO' column)\n",
    "y = df['Life_expectancy']\n",
    "\n",
    "X_train, X_test, y_train, y_test = train_test_split(X, y, test_size=0.2, random_state=42)"
   ]
  },
  {
   "cell_type": "markdown",
   "id": "69e7d456-ec6b-406a-a91b-39b845cb6f9c",
   "metadata": {
    "tags": []
   },
   "source": [
    "# Dropped Columns\n",
    "We want to drop the `Economy_status_Developing` feature. As discovered during EDA, there are two binary features presenting identical and opposite information about economic status. It is common practice in a binary feature for **1** to represent **Yes** and for **0** to represent **No**. Since the `Economy_status_Developed` follows this, we chose to keep this feature in the dataframe, and drop the other."
   ]
  },
  {
   "cell_type": "markdown",
   "id": "5ba6cb64-cba9-4969-bbf7-3f40cd4cde63",
   "metadata": {},
   "source": [
    "The features `Country` and `Region` were deemed to be equivalent unique identifiers. Although both could be potential features useful for life expectancy prediction, they could also be hindrances. A specific country may provide high life expectancy in past years, with factors in fields such as medicine or finance leading to lower life expectancy in later years. A model would associate country with life expectancy and therefore may not recognise these later changes, leading to innaccurate predictions. Because of thise, we chose to remove `Country` and `Region` from the dataframe."
   ]
  },
  {
   "cell_type": "markdown",
   "id": "4b80a8f9-935b-4b5b-8851-69a9525339e2",
   "metadata": {},
   "source": [
    "We observed a high correlation of **98.6%** between `Infant_deaths` and `Under_five_deaths`. The latter feature can be seen as inclusive of the former, since under fives include infants. The removal of the feature `Infant_deaths` avoids collinearity in future modelling."
   ]
  },
  {
   "cell_type": "code",
   "execution_count": 4,
   "id": "54daecaf-4a44-44ad-bccc-e9ff1db8711a",
   "metadata": {},
   "outputs": [],
   "source": [
    "# Function dropping all required features\n",
    "def drop_all(df):\n",
    "    df.drop(columns = ['Economy_status_Developing','Country', 'Region','Infant_deaths'], inplace = True)\n",
    "    return df"
   ]
  },
  {
   "cell_type": "code",
   "execution_count": 5,
   "id": "4065d153-3343-47f6-b08e-69f0bf999f34",
   "metadata": {},
   "outputs": [],
   "source": [
    "X_train_drop = drop_all(X_train)\n",
    "X_test_drop = drop_all(X_test)"
   ]
  },
  {
   "cell_type": "markdown",
   "id": "cda65667-d98c-4934-b6b1-23ff928aff19",
   "metadata": {
    "tags": []
   },
   "source": [
    "# Scaling\n",
    "\n",
    "Summary statistics of the model show a large difference in scale between features. These must be treated with care before modelling, to ensure that models are not biased or dominated by certain features.\n",
    "\n",
    "We observed various features with skewed distributions. Linear regression performs best with normally distributed data. Therefore, any skewed distributions should be scaled prior to modelling.\n",
    "\n",
    "The `GDP_per_capita` feature displayed a logarithmic relationship with `Life_expectancy`. To combat this, we created a new feature that normalised log values, `GDP_per_capita_log`. This then presented a more linear relationship. We dropped the original `GDP_per_capita` feature following this."
   ]
  },
  {
   "cell_type": "code",
   "execution_count": 6,
   "id": "dc4513bb-8208-4554-996a-7669ad83ab34",
   "metadata": {
    "tags": []
   },
   "outputs": [],
   "source": [
    "# Function to normalise GDP\n",
    "def log_GDP(df):\n",
    "    df['GDP_per_capita_log'] = np.log(df['GDP_per_capita'])\n",
    "    df.drop(columns = ['GDP_per_capita'], inplace = True)\n",
    "    return df"
   ]
  },
  {
   "cell_type": "code",
   "execution_count": 7,
   "id": "bbe0bb8d-ae8d-46ac-9f43-991f3217e9a5",
   "metadata": {},
   "outputs": [],
   "source": [
    "# Apply function to X_train_drop and X_test_drop\n",
    "X_train_log = log_GDP(X_train_drop)\n",
    "X_test_log = log_GDP(X_test_drop)"
   ]
  },
  {
   "cell_type": "markdown",
   "id": "8571b738-43c9-4f64-8cdb-a7af4ddd17c9",
   "metadata": {},
   "source": [
    "We observed during EDA a strong linear reataionship between `Year` and `Life_expectancy`. Feature `Year` ranges between 2000 and 2015, which is a fairly high scale. To combat this, we decided to subtract **2000** from the `Year` value. This brings the range to 0-15, which is lower and therefore less likely to create bias during modelling."
   ]
  },
  {
   "cell_type": "code",
   "execution_count": 8,
   "id": "d24d2993-24eb-413f-8fd1-1b4c9c94da7e",
   "metadata": {
    "tags": []
   },
   "outputs": [],
   "source": [
    "# Function to reduce `Year` scale\n",
    "def year(df):\n",
    "    df['Year'] = df['Year'] - 2000\n",
    "    return df"
   ]
  },
  {
   "cell_type": "code",
   "execution_count": 10,
   "id": "986d5313-317e-46a9-ba84-7a994fd01050",
   "metadata": {
    "tags": []
   },
   "outputs": [],
   "source": [
    "# Apply function to X_train_drop and X_test_drop\n",
    "X_train_fe = year(X_train_log)\n",
    "X_test_fe = year(X_test_log)"
   ]
  },
  {
   "cell_type": "code",
   "execution_count": 11,
   "id": "800500b4-3341-4d5c-924e-0d4e80f3f4af",
   "metadata": {},
   "outputs": [],
   "source": [
    "# Saving the dataframe\n",
    "X_train_fe.to_csv('X_train_fe.csv')\n",
    "X_test_fe.to_csv('X_test_fe.csv')\n",
    "y_train.to_csv('y_train.csv')\n",
    "y_test.to_csv('y_test.csv')"
   ]
  }
 ],
 "metadata": {
  "kernelspec": {
   "display_name": "Python 3 (ipykernel)",
   "language": "python",
   "name": "python3"
  },
  "language_info": {
   "codemirror_mode": {
    "name": "ipython",
    "version": 3
   },
   "file_extension": ".py",
   "mimetype": "text/x-python",
   "name": "python",
   "nbconvert_exporter": "python",
   "pygments_lexer": "ipython3",
   "version": "3.9.7"
  }
 },
 "nbformat": 4,
 "nbformat_minor": 5
}
